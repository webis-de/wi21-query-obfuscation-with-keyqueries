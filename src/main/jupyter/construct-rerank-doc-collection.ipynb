{
 "cells": [
  {
   "cell_type": "markdown",
   "metadata": {
    "execution": {
     "iopub.execute_input": "2021-05-19T17:43:58.072920Z",
     "iopub.status.busy": "2021-05-19T17:43:58.072479Z",
     "iopub.status.idle": "2021-05-19T17:43:58.077834Z",
     "shell.execute_reply": "2021-05-19T17:43:58.076854Z",
     "shell.execute_reply.started": "2021-05-19T17:43:58.072873Z"
    }
   },
   "source": [
    "# Construct Rerank Document Collection"
   ]
  },
  {
   "cell_type": "code",
   "execution_count": 30,
   "metadata": {
    "execution": {
     "iopub.execute_input": "2021-05-19T18:56:54.695892Z",
     "iopub.status.busy": "2021-05-19T18:56:54.695419Z",
     "iopub.status.idle": "2021-05-19T18:56:54.711153Z",
     "shell.execute_reply": "2021-05-19T18:56:54.710260Z",
     "shell.execute_reply.started": "2021-05-19T18:56:54.695834Z"
    }
   },
   "outputs": [],
   "source": [
    "import json\n",
    "from tqdm import tqdm\n",
    "\n",
    "DATA_DIR = '/mnt/ceph/storage/data-in-progress/data-research/web-search/private-web-search-with-keyqueries/'\n",
    "QUERY_DIR = DATA_DIR + 'scrambling-on-anserini/'\n",
    "\n",
    "SCRAMBLING_APPROACHES = ['nounphrase','tf-idf', 'hbc', 'arampatzis', 'HbcTfIdf', 'arampatzisHbc']\n",
    "RETRIEVAL_MODELS = ['bm25', 'qld']\n",
    "SELECTION_STRATEGIES = ['keyqueryNdcg', 'keyqueryNdcgRelaxed', 'ndcg', 'pmi']\n",
    "\n",
    "TOPICS = [2, 8, 11, 17, 18, 26, 30, 33, 38, 40, 46, 47, 50, 57, 59, 61, 62, 66, 67, 78, 82, 88, 89, 95, 98, 104, 105, 109, 111, 117, 119, 121, 123, 128, 131, 136, 140, 142, 147, 152, 156, 162, 168, 173, 175, 177, 182, 196, 199, 207, 213, 222, 236, 253, 254, 262, 266, 273, 286, 287, 209, 214]"
   ]
  },
  {
   "cell_type": "markdown",
   "metadata": {},
   "source": [
    "### Already Crawled Documents"
   ]
  },
  {
   "cell_type": "code",
   "execution_count": 38,
   "metadata": {
    "execution": {
     "iopub.execute_input": "2021-05-19T19:03:43.387336Z",
     "iopub.status.busy": "2021-05-19T19:03:43.386942Z",
     "iopub.status.idle": "2021-05-19T19:04:51.834193Z",
     "shell.execute_reply": "2021-05-19T19:04:51.832813Z",
     "shell.execute_reply.started": "2021-05-19T19:03:43.387290Z"
    }
   },
   "outputs": [
    {
     "name": "stderr",
     "output_type": "stream",
     "text": [
      "100%|██████████| 700/700 [01:08<00:00, 10.26it/s]\n"
     ]
    }
   ],
   "source": [
    "DIR='/mnt/ceph/storage/data-in-progress/data-research/web-search/private-web-search-with-keyqueries/reranking-index-anserini/documents'\n",
    "parts=!ls $DIR\n",
    "existing_ids = []\n",
    "\n",
    "for part in tqdm(parts):\n",
    "    with open(DIR + '/' + part, 'r') as f:\n",
    "        for l in f:\n",
    "            existing_ids += [json.loads(l)['id']]\n",
    "\n",
    "existing_ids = set(existing_ids)"
   ]
  },
  {
   "cell_type": "code",
   "execution_count": 39,
   "metadata": {
    "execution": {
     "iopub.execute_input": "2021-05-19T19:05:45.453495Z",
     "iopub.status.busy": "2021-05-19T19:05:45.453057Z",
     "iopub.status.idle": "2021-05-19T19:05:45.512756Z",
     "shell.execute_reply": "2021-05-19T19:05:45.511732Z",
     "shell.execute_reply.started": "2021-05-19T19:05:45.453439Z"
    }
   },
   "outputs": [
    {
     "data": {
      "text/plain": [
       "['clueweb12-0911wb-48-00029',\n",
       " 'clueweb09-en0055-59-21632',\n",
       " 'clueweb09-en0105-08-19045',\n",
       " 'clueweb09-en0107-56-06456',\n",
       " 'clueweb09-en0018-49-11969',\n",
       " 'clueweb09-enwp00-92-20155',\n",
       " 'clueweb09-enwp03-29-13875',\n",
       " 'clueweb09-en0130-65-09008',\n",
       " 'clueweb09-en0023-03-26654',\n",
       " 'clueweb09-en0013-16-10532']"
      ]
     },
     "execution_count": 39,
     "metadata": {},
     "output_type": "execute_result"
    }
   ],
   "source": [
    "[i for i in existing_ids][:10]"
   ]
  },
  {
   "cell_type": "code",
   "execution_count": 40,
   "metadata": {
    "execution": {
     "iopub.execute_input": "2021-05-19T19:05:47.366330Z",
     "iopub.status.busy": "2021-05-19T19:05:47.365850Z",
     "iopub.status.idle": "2021-05-19T19:05:52.269296Z",
     "shell.execute_reply": "2021-05-19T19:05:52.267996Z",
     "shell.execute_reply.started": "2021-05-19T19:05:47.366275Z"
    }
   },
   "outputs": [
    {
     "name": "stderr",
     "output_type": "stream",
     "text": [
      "100%|██████████| 2976/2976 [00:03<00:00, 767.61it/s] \n"
     ]
    },
    {
     "name": "stdout",
     "output_type": "stream",
     "text": [
      "Missing Docs: 0\n"
     ]
    }
   ],
   "source": [
    "from tqdm import tqdm\n",
    "\n",
    "def load_docs_in_topic(approach, topic):\n",
    "    import json\n",
    "    #print(DATA_DIR + 'submitted-scrambled-queries/' + approach + '/' + str(topic) + '.jsonl')\n",
    "    topic_data = json.load(open(DATA_DIR + 'submitted-scrambled-queries/' + approach + '/' + str(topic) + '.jsonl'))\n",
    "    ret = []\n",
    "    for _, v in topic_data.items():\n",
    "        ret += v['ranking']\n",
    "    \n",
    "    return set(ret)\n",
    "\n",
    "def everything():\n",
    "    ret = []\n",
    "    for rtr in RETRIEVAL_MODELS:\n",
    "        for stn in SELECTION_STRATEGIES:\n",
    "            for scr in SCRAMBLING_APPROACHES:\n",
    "                for topic in TOPICS:\n",
    "                    ret += [(rtr, stn, scr, topic)]\n",
    "    return ret\n",
    "\n",
    "docs = []\n",
    "for (rtr, stn, scr, topic) in tqdm(everything()):\n",
    "    docs += [i for i in load_docs_in_topic(scr + '-' + rtr + '-' + stn, topic)]\n",
    "docs = set([i for i in docs if i not in existing_ids])\n",
    "\n",
    "print('Missing Docs: ' + str(len(docs)))"
   ]
  },
  {
   "cell_type": "markdown",
   "metadata": {},
   "source": [
    "### Write docs to file system\n",
    "\n",
    "Outcommented: run only in case some docs are missing.\n",
    "And pay attention to interleave files."
   ]
  },
  {
   "cell_type": "code",
   "execution_count": 26,
   "metadata": {
    "execution": {
     "iopub.execute_input": "2021-05-19T18:02:52.496595Z",
     "iopub.status.busy": "2021-05-19T18:02:52.496271Z",
     "iopub.status.idle": "2021-05-19T18:02:55.325719Z",
     "shell.execute_reply": "2021-05-19T18:02:55.324690Z",
     "shell.execute_reply.started": "2021-05-19T18:02:52.496558Z"
    }
   },
   "outputs": [
    {
     "name": "stderr",
     "output_type": "stream",
     "text": [
      "100%|██████████| 700/700 [00:02<00:00, 278.69it/s]\n"
     ]
    }
   ],
   "source": [
    "#import numpy as np\n",
    "#splits = np.array_split([i for i in docs], 700)\n",
    "#\n",
    "#OUT_DIR='/mnt/ceph/storage/data-in-progress/data-research/web-search/private-web-search-with-keyqueries/reranking-index-anserini/doc-ids/'\n",
    "#\n",
    "#for i in tqdm(range(len(splits))):\n",
    "#    with open(OUT_DIR + 'part-' + str(i), 'w') as f:\n",
    "#        for doc_id in splits[i]:\n",
    "#            f.write(doc_id + '\\n')"
   ]
  },
  {
   "cell_type": "markdown",
   "metadata": {},
   "source": [
    "# Create Allowlists for Indexing"
   ]
  },
  {
   "cell_type": "code",
   "execution_count": 42,
   "metadata": {
    "execution": {
     "iopub.execute_input": "2021-05-19T19:16:24.464849Z",
     "iopub.status.busy": "2021-05-19T19:16:24.464380Z",
     "iopub.status.idle": "2021-05-19T19:16:41.968510Z",
     "shell.execute_reply": "2021-05-19T19:16:41.966665Z",
     "shell.execute_reply.started": "2021-05-19T19:16:24.464793Z"
    }
   },
   "outputs": [],
   "source": [
    "def load_top_docs_in_topic(approach, topic, stop_at_position=1000, num_queries=1000):\n",
    "    import json\n",
    "    #print(DATA_DIR + 'submitted-scrambled-queries/' + approach + '/' + str(topic) + '.jsonl')\n",
    "    topic_data = json.load(open(DATA_DIR + 'submitted-scrambled-queries/' + approach + '/' + str(topic) + '.jsonl'))\n",
    "    ret = []\n",
    "    for q, v in topic_data.items():\n",
    "        if int(q) <= num_queries:\n",
    "            ret += v['ranking'][:stop_at_position]\n",
    "    \n",
    "    return set(ret)\n",
    "\n",
    "for rtr in RETRIEVAL_MODELS:\n",
    "    for stn in SELECTION_STRATEGIES:\n",
    "        for scr in SCRAMBLING_APPROACHES:\n",
    "            for top_docs in [10, 100]:\n",
    "                for num_queries in [5, 10, 25]:\n",
    "                    docs = []\n",
    "                    for topic in TOPICS:\n",
    "                        docs += load_top_docs_in_topic(scr + '-' + rtr + '-' + stn, topic, top_docs, num_queries)\n",
    "                    docs = set(docs)\n",
    "                    \n",
    "                    with open(DATA_DIR+ '/reranking-index-anserini/allow-lists/' + scr + '-' + rtr + '-' + stn + '-' + str(top_docs) + 'top_docs' + '-' + str(num_queries) + 'num_queries','w') as f:\n",
    "                        for doc in docs:\n",
    "                            f.write(doc + '\\n')\n"
   ]
  }
 ],
 "metadata": {
  "kernelspec": {
   "display_name": "Python 3",
   "language": "python",
   "name": "python3"
  },
  "language_info": {
   "codemirror_mode": {
    "name": "ipython",
    "version": 3
   },
   "file_extension": ".py",
   "mimetype": "text/x-python",
   "name": "python",
   "nbconvert_exporter": "python",
   "pygments_lexer": "ipython3",
   "version": "3.7.6"
  }
 },
 "nbformat": 4,
 "nbformat_minor": 4
}
