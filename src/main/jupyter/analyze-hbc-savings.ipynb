{
 "cells": [
  {
   "cell_type": "markdown",
   "metadata": {},
   "source": [
    "# Analyze HBC Savings"
   ]
  },
  {
   "cell_type": "code",
   "execution_count": 1,
   "metadata": {
    "execution": {
     "iopub.execute_input": "2021-05-17T07:16:12.707116Z",
     "iopub.status.busy": "2021-05-17T07:16:12.706775Z",
     "iopub.status.idle": "2021-05-17T07:16:15.349916Z",
     "shell.execute_reply": "2021-05-17T07:16:15.349088Z",
     "shell.execute_reply.started": "2021-05-17T07:16:12.707055Z"
    }
   },
   "outputs": [
    {
     "data": {
      "text/html": [
       "<div>\n",
       "<style scoped>\n",
       "    .dataframe tbody tr th:only-of-type {\n",
       "        vertical-align: middle;\n",
       "    }\n",
       "\n",
       "    .dataframe tbody tr th {\n",
       "        vertical-align: top;\n",
       "    }\n",
       "\n",
       "    .dataframe thead th {\n",
       "        text-align: right;\n",
       "    }\n",
       "</style>\n",
       "<table border=\"1\" class=\"dataframe\">\n",
       "  <thead>\n",
       "    <tr style=\"text-align: right;\">\n",
       "      <th></th>\n",
       "      <th>submittedQueries</th>\n",
       "      <th>exhaustiveSearchNumberOfQueries</th>\n",
       "      <th>topic</th>\n",
       "      <th>method</th>\n",
       "    </tr>\n",
       "  </thead>\n",
       "  <tbody>\n",
       "    <tr>\n",
       "      <th>0</th>\n",
       "      <td>149</td>\n",
       "      <td>385</td>\n",
       "      <td>128</td>\n",
       "      <td>bm25</td>\n",
       "    </tr>\n",
       "    <tr>\n",
       "      <th>1</th>\n",
       "      <td>381</td>\n",
       "      <td>385</td>\n",
       "      <td>2</td>\n",
       "      <td>bm25</td>\n",
       "    </tr>\n",
       "    <tr>\n",
       "      <th>2</th>\n",
       "      <td>649</td>\n",
       "      <td>255</td>\n",
       "      <td>131</td>\n",
       "      <td>bm25</td>\n",
       "    </tr>\n",
       "    <tr>\n",
       "      <th>3</th>\n",
       "      <td>981</td>\n",
       "      <td>56</td>\n",
       "      <td>262</td>\n",
       "      <td>bm25</td>\n",
       "    </tr>\n",
       "    <tr>\n",
       "      <th>4</th>\n",
       "      <td>516</td>\n",
       "      <td>255</td>\n",
       "      <td>8</td>\n",
       "      <td>bm25</td>\n",
       "    </tr>\n",
       "    <tr>\n",
       "      <th>...</th>\n",
       "      <td>...</td>\n",
       "      <td>...</td>\n",
       "      <td>...</td>\n",
       "      <td>...</td>\n",
       "    </tr>\n",
       "    <tr>\n",
       "      <th>119</th>\n",
       "      <td>385</td>\n",
       "      <td>385</td>\n",
       "      <td>119</td>\n",
       "      <td>qld</td>\n",
       "    </tr>\n",
       "    <tr>\n",
       "      <th>120</th>\n",
       "      <td>385</td>\n",
       "      <td>385</td>\n",
       "      <td>121</td>\n",
       "      <td>qld</td>\n",
       "    </tr>\n",
       "    <tr>\n",
       "      <th>121</th>\n",
       "      <td>261</td>\n",
       "      <td>385</td>\n",
       "      <td>123</td>\n",
       "      <td>qld</td>\n",
       "    </tr>\n",
       "    <tr>\n",
       "      <th>122</th>\n",
       "      <td>344</td>\n",
       "      <td>385</td>\n",
       "      <td>253</td>\n",
       "      <td>qld</td>\n",
       "    </tr>\n",
       "    <tr>\n",
       "      <th>123</th>\n",
       "      <td>256</td>\n",
       "      <td>385</td>\n",
       "      <td>254</td>\n",
       "      <td>qld</td>\n",
       "    </tr>\n",
       "  </tbody>\n",
       "</table>\n",
       "<p>124 rows × 4 columns</p>\n",
       "</div>"
      ],
      "text/plain": [
       "     submittedQueries  exhaustiveSearchNumberOfQueries  topic method\n",
       "0                 149                              385    128   bm25\n",
       "1                 381                              385      2   bm25\n",
       "2                 649                              255    131   bm25\n",
       "3                 981                               56    262   bm25\n",
       "4                 516                              255      8   bm25\n",
       "..                ...                              ...    ...    ...\n",
       "119               385                              385    119    qld\n",
       "120               385                              385    121    qld\n",
       "121               261                              385    123    qld\n",
       "122               344                              385    253    qld\n",
       "123               256                              385    254    qld\n",
       "\n",
       "[124 rows x 4 columns]"
      ]
     },
     "execution_count": 1,
     "metadata": {},
     "output_type": "execute_result"
    }
   ],
   "source": [
    "import pandas as pd\n",
    "import seaborn as sns\n",
    "INPUT_JSONL = '/mnt/ceph/storage/data-in-progress/data-research/web-search/private-web-search-with-keyqueries/scrambling-on-anserini/hbc-query-savings-overview.jsonl'\n",
    "\n",
    "df = pd.read_json(INPUT_JSONL, lines=True)\n",
    "df"
   ]
  },
  {
   "cell_type": "code",
   "execution_count": 3,
   "metadata": {
    "execution": {
     "iopub.execute_input": "2021-05-17T07:18:10.518480Z",
     "iopub.status.busy": "2021-05-17T07:18:10.518122Z",
     "iopub.status.idle": "2021-05-17T07:18:10.526577Z",
     "shell.execute_reply": "2021-05-17T07:18:10.525586Z",
     "shell.execute_reply.started": "2021-05-17T07:18:10.518441Z"
    }
   },
   "outputs": [
    {
     "data": {
      "text/plain": [
       "24"
      ]
     },
     "execution_count": 3,
     "metadata": {},
     "output_type": "execute_result"
    }
   ],
   "source": [
    "len(df[df['exhaustiveSearchNumberOfQueries'] < df['submittedQueries']])"
   ]
  },
  {
   "cell_type": "code",
   "execution_count": 7,
   "metadata": {
    "execution": {
     "iopub.execute_input": "2021-05-17T07:20:44.036267Z",
     "iopub.status.busy": "2021-05-17T07:20:44.035768Z",
     "iopub.status.idle": "2021-05-17T07:20:44.046243Z",
     "shell.execute_reply": "2021-05-17T07:20:44.045291Z",
     "shell.execute_reply.started": "2021-05-17T07:20:44.036214Z"
    }
   },
   "outputs": [
    {
     "data": {
      "text/plain": [
       "29"
      ]
     },
     "execution_count": 7,
     "metadata": {},
     "output_type": "execute_result"
    }
   ],
   "source": [
    "len(df[df['exhaustiveSearchNumberOfQueries'] != 385])"
   ]
  },
  {
   "cell_type": "code",
   "execution_count": 4,
   "metadata": {
    "execution": {
     "iopub.execute_input": "2021-05-17T07:18:53.895379Z",
     "iopub.status.busy": "2021-05-17T07:18:53.895013Z",
     "iopub.status.idle": "2021-05-17T07:18:53.968811Z",
     "shell.execute_reply": "2021-05-17T07:18:53.967925Z",
     "shell.execute_reply.started": "2021-05-17T07:18:53.895342Z"
    }
   },
   "outputs": [],
   "source": [
    "df['saved'] = 1- (df['submittedQueries']/df['exhaustiveSearchNumberOfQueries'])"
   ]
  },
  {
   "cell_type": "code",
   "execution_count": 19,
   "metadata": {
    "execution": {
     "iopub.execute_input": "2021-05-17T17:33:00.433888Z",
     "iopub.status.busy": "2021-05-17T17:33:00.433364Z",
     "iopub.status.idle": "2021-05-17T17:33:00.820275Z",
     "shell.execute_reply": "2021-05-17T17:33:00.818522Z",
     "shell.execute_reply.started": "2021-05-17T17:33:00.433803Z"
    }
   },
   "outputs": [
    {
     "data": {
      "image/png": "[encoded data removed]",
      "text/plain": [
       "<Figure size 360x360 with 1 Axes>"
      ]
     },
     "metadata": {
      "needs_background": "light"
     },
     "output_type": "display_data"
    }
   ],
   "source": [
    "df_plot = df[df['exhaustiveSearchNumberOfQueries'] >= df['submittedQueries']].copy()\n",
    "df_plot['Retrieval Method'] = df_plot['method'].astype(str)\n",
    "df_plot['Queries Saved (%)'] = df_plot['saved']*100\n",
    "\n",
    "g = sns.catplot(data=df_plot, x='Retrieval Method', y='Queries Saved (%)', hue='Retrieval Method', kind='bar', ci=95)"
   ]
  },
  {
   "cell_type": "code",
   "execution_count": 20,
   "metadata": {
    "execution": {
     "iopub.execute_input": "2021-05-17T17:33:03.149926Z",
     "iopub.status.busy": "2021-05-17T17:33:03.149240Z",
     "iopub.status.idle": "2021-05-17T17:33:03.350401Z",
     "shell.execute_reply": "2021-05-17T17:33:03.349484Z",
     "shell.execute_reply.started": "2021-05-17T17:33:03.149807Z"
    }
   },
   "outputs": [],
   "source": [
    "g.savefig('hbc-saved-queries.pdf')"
   ]
  },
  {
   "cell_type": "code",
   "execution_count": 16,
   "metadata": {
    "execution": {
     "iopub.execute_input": "2021-05-17T07:33:59.401844Z",
     "iopub.status.busy": "2021-05-17T07:33:59.401458Z",
     "iopub.status.idle": "2021-05-17T07:33:59.815997Z",
     "shell.execute_reply": "2021-05-17T07:33:59.815188Z",
     "shell.execute_reply.started": "2021-05-17T07:33:59.401804Z"
    }
   },
   "outputs": [
    {
     "data": {
      "text/plain": [
       "<seaborn.axisgrid.FacetGrid at 0x7f2cd8d8e050>"
      ]
     },
     "execution_count": 16,
     "metadata": {},
     "output_type": "execute_result"
    },
    {
     "data": {
      "image/png": "[encoded data removed]",
      "text/plain": [
       "<Figure size 360x360 with 1 Axes>"
      ]
     },
     "metadata": {
      "needs_background": "light"
     },
     "output_type": "display_data"
    }
   ],
   "source": [
    "df_plot = df[df['exhaustiveSearchNumberOfQueries'] >= df['submittedQueries']].copy()\n",
    "df_plot['Retrieval Method'] = df_plot['method'].astype(str)\n",
    "df_plot['Queries Saved (%)'] = df_plot['saved']*100\n",
    "\n",
    "sns.catplot(data=df_plot, x='Retrieval Method', y='Queries Saved (%)', hue='Retrieval Method', kind='bar', ci=10)"
   ]
  },
  {
   "cell_type": "markdown",
   "metadata": {},
   "source": [
    "# Calculate HBC Savings for other Scrambling Approaches:\n",
    "\n"
   ]
  },
  {
   "cell_type": "code",
   "execution_count": 22,
   "metadata": {
    "execution": {
     "iopub.execute_input": "2021-05-19T14:58:33.062697Z",
     "iopub.status.busy": "2021-05-19T14:58:33.062255Z",
     "iopub.status.idle": "2021-05-19T14:58:33.074783Z",
     "shell.execute_reply": "2021-05-19T14:58:33.073766Z",
     "shell.execute_reply.started": "2021-05-19T14:58:33.062637Z"
    }
   },
   "outputs": [],
   "source": [
    "DATA_DIR = '/mnt/ceph/storage/data-in-progress/data-research/web-search/private-web-search-with-keyqueries/'\n",
    "QUERY_DIR = DATA_DIR + 'scrambling-on-anserini/'\n",
    "\n",
    "SCRAMBLING_APPROACHES = [('tf-idf', 'HbcTfIdf'), ('arampatzis', 'arampatzisHbc')]\n",
    "RETRIEVAL_MODELS = ['bm25', 'qld']\n",
    "TOPICS = [2, 8, 11, 17, 18, 26, 30, 33, 38, 40, 46, 47, 50, 57, 59, 61, 62, 66, 67, 78, 82, 88, 89, 95, 98, 104, 105, 109, 111, 117, 119, 121, 123, 128, 131, 136, 140, 142, 147, 152, 156, 162, 168, 173, 175, 177, 182, 196, 199, 207, 213, 222, 236, 253, 254, 262, 266, 273, 286, 287, 209, 214]"
   ]
  },
  {
   "cell_type": "code",
   "execution_count": 24,
   "metadata": {
    "execution": {
     "iopub.execute_input": "2021-05-19T14:59:42.108570Z",
     "iopub.status.busy": "2021-05-19T14:59:42.108046Z",
     "iopub.status.idle": "2021-05-19T15:02:40.199931Z",
     "shell.execute_reply": "2021-05-19T15:02:40.197372Z",
     "shell.execute_reply.started": "2021-05-19T14:59:42.108505Z"
    }
   },
   "outputs": [
    {
     "name": "stderr",
     "output_type": "stream",
     "text": [
      "100%|██████████| 62/62 [00:04<00:00, 14.13it/s]\n",
      "100%|██████████| 62/62 [00:03<00:00, 17.35it/s]\n",
      "100%|██████████| 62/62 [01:15<00:00,  1.22s/it]\n",
      "100%|██████████| 62/62 [01:34<00:00,  1.53s/it]\n"
     ]
    }
   ],
   "source": [
    "from tqdm import tqdm \n",
    "df_new = []\n",
    "\n",
    "def count_lines_in_file(file_name):\n",
    "    ret = 0\n",
    "    with open(file_name) as f:\n",
    "        for i in f:\n",
    "            ret += 1\n",
    "    return ret\n",
    "\n",
    "for scr in SCRAMBLING_APPROACHES:\n",
    "    for rtr in RETRIEVAL_MODELS:\n",
    "        for topic in tqdm(TOPICS):\n",
    "            hbc_submitted_queries = count_lines_in_file(QUERY_DIR + '/' + scr[1] + '-' + rtr +'/' + str(topic) + '.jsonl')\n",
    "            exhaustive_submitted_queries = count_lines_in_file(QUERY_DIR + '/' + scr[0] + '-' + rtr +'/' + str(topic) + '.jsonl')\n",
    "            \n",
    "            df_new += [{\n",
    "                'hbc_queries': hbc_submitted_queries,\n",
    "                'exhaustive_queries': exhaustive_submitted_queries,\n",
    "                'topic': topic,\n",
    "                'retrieval_model': rtr,\n",
    "                'scrambling_method': scr[0],\n",
    "            }]\n",
    "            \n",
    "df_new = pd.DataFrame(df_new)      "
   ]
  },
  {
   "cell_type": "code",
   "execution_count": 29,
   "metadata": {
    "execution": {
     "iopub.execute_input": "2021-05-19T15:06:47.954265Z",
     "iopub.status.busy": "2021-05-19T15:06:47.953758Z",
     "iopub.status.idle": "2021-05-19T15:06:48.756841Z",
     "shell.execute_reply": "2021-05-19T15:06:48.754454Z",
     "shell.execute_reply.started": "2021-05-19T15:06:47.954207Z"
    }
   },
   "outputs": [
    {
     "data": {
      "text/plain": [
       "<seaborn.axisgrid.FacetGrid at 0x7f2cd81dd1d0>"
      ]
     },
     "execution_count": 29,
     "metadata": {},
     "output_type": "execute_result"
    },
    {
     "data": {
      "image/png": "[encoded data removed]",
      "text/plain": [
       "<Figure size 445.875x360 with 1 Axes>"
      ]
     },
     "metadata": {
      "needs_background": "light"
     },
     "output_type": "display_data"
    }
   ],
   "source": [
    "df_new['Queries Saved (%)'] = (1-(df_new['hbc_queries'] / df_new['exhaustive_queries']))*100\n",
    "\n",
    "sns.catplot(data=df_new, x='scrambling_method', y='Queries Saved (%)', hue='retrieval_model', kind='bar')"
   ]
  },
  {
   "cell_type": "code",
   "execution_count": 30,
   "metadata": {
    "execution": {
     "iopub.execute_input": "2021-05-19T15:09:34.144920Z",
     "iopub.status.busy": "2021-05-19T15:09:34.144493Z",
     "iopub.status.idle": "2021-05-19T15:09:34.168274Z",
     "shell.execute_reply": "2021-05-19T15:09:34.167106Z",
     "shell.execute_reply.started": "2021-05-19T15:09:34.144878Z"
    }
   },
   "outputs": [
    {
     "data": {
      "text/plain": [
       "retrieval_model  scrambling_method\n",
       "bm25             arampatzis           41150.241935\n",
       "                 tf-idf                 274.032258\n",
       "qld              arampatzis           51554.419355\n",
       "                 tf-idf                 277.258065\n",
       "Name: Queries Saved (Total), dtype: float64"
      ]
     },
     "execution_count": 30,
     "metadata": {},
     "output_type": "execute_result"
    }
   ],
   "source": [
    "df_new['Queries Saved (Total)'] = df_new['exhaustive_queries']-df_new['hbc_queries']\n",
    "\n",
    "df_new.groupby(['retrieval_model', 'scrambling_method']).mean()['Queries Saved (Total)']"
   ]
  }
 ],
 "metadata": {
  "kernelspec": {
   "display_name": "Python 3",
   "language": "python",
   "name": "python3"
  },
  "language_info": {
   "codemirror_mode": {
    "name": "ipython",
    "version": 3
   },
   "file_extension": ".py",
   "mimetype": "text/x-python",
   "name": "python",
   "nbconvert_exporter": "python",
   "pygments_lexer": "ipython3",
   "version": "3.7.6"
  }
 },
 "nbformat": 4,
 "nbformat_minor": 4
}
